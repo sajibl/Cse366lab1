{
  "nbformat": 4,
  "nbformat_minor": 0,
  "metadata": {
    "colab": {
      "provenance": [],
      "authorship_tag": "ABX9TyMsenTH3au11wO0AIgFXLmZ",
      "include_colab_link": true
    },
    "kernelspec": {
      "name": "python3",
      "display_name": "Python 3"
    },
    "language_info": {
      "name": "python"
    }
  },
  "cells": [
    {
      "cell_type": "markdown",
      "metadata": {
        "id": "view-in-github",
        "colab_type": "text"
      },
      "source": [
        "<a href=\"https://colab.research.google.com/github/sajibl/Cse366lab1/blob/main/Untitled7.ipynb\" target=\"_parent\"><img src=\"https://colab.research.google.com/assets/colab-badge.svg\" alt=\"Open In Colab\"/></a>"
      ]
    },
    {
      "cell_type": "code",
      "execution_count": 1,
      "metadata": {
        "colab": {
          "base_uri": "https://localhost:8080/"
        },
        "id": "ritOFULrbH0V",
        "outputId": "9a2db0a4-e7e6-46e7-8a2c-705e66b5276b"
      },
      "outputs": [
        {
          "output_type": "stream",
          "name": "stdout",
          "text": [
            "To buy: 15\n"
          ]
        }
      ],
      "source": [
        "# Sample data\n",
        "last_price = 60.0\n",
        "ave = 100.0\n",
        "instock_quantity = 20\n",
        "\n",
        "# Checking conditions\n",
        "if last_price < 0.7 * ave and instock_quantity < 30:\n",
        "    tobuy = 15\n",
        "else:\n",
        "    tobuy = 0\n",
        "\n",
        "print(f\"To buy: {tobuy}\")\n"
      ]
    },
    {
      "cell_type": "code",
      "source": [
        "# Sample data\n",
        "last_price = 60.0\n",
        "ave = 100.0\n",
        "instock_quantity = 20\n",
        "\n",
        "# Checking conditions\n",
        "if last_price < 0.7 * ave and instock_quantity < 30:\n",
        "    tobuy = 15\n",
        "elif instock_quantity < 10:\n",
        "    tobuy = 5\n",
        "else:\n",
        "    tobuy = 0\n",
        "\n",
        "print(f\"To buy: {tobuy}\")\n"
      ],
      "metadata": {
        "colab": {
          "base_uri": "https://localhost:8080/"
        },
        "id": "WBsohl3hbec8",
        "outputId": "ae7ed38b-58e9-4a2c-f6a9-d5d5291027b0"
      },
      "execution_count": 2,
      "outputs": [
        {
          "output_type": "stream",
          "name": "stdout",
          "text": [
            "To buy: 15\n"
          ]
        }
      ]
    },
    {
      "cell_type": "code",
      "source": [
        "class SmartphoneTradingAgent:\n",
        "    def __init__(self, initial_inventory, initial_balance):\n",
        "        self.inventory = initial_inventory\n",
        "        self.balance = initial_balance\n",
        "\n",
        "    def buy_smartphones(self, price, quantity):\n",
        "        cost = price * quantity\n",
        "\n",
        "        if cost > self.balance:\n",
        "            print(\"Insufficient funds to buy.\")\n",
        "            return False\n",
        "\n",
        "        self.inventory += quantity\n",
        "        self.balance -= cost\n",
        "        print(f\"Bought {quantity} smartphones for {cost}. Remaining balance: {self.balance}\")\n",
        "        return True\n",
        "\n",
        "    def sell_smartphones(self, price, quantity):\n",
        "        if quantity > self.inventory:\n",
        "            print(\"Not enough smartphones in inventory to sell.\")\n",
        "            return False\n",
        "\n",
        "        revenue = price * quantity\n",
        "        self.inventory -= quantity\n",
        "        self.balance += revenue\n",
        "        print(f\"Sold {quantity} smartphones for {revenue}. Remaining inventory: {self.inventory}\")\n",
        "        return True\n",
        "\n",
        "# Example usage:\n",
        "initial_inventory = 10\n",
        "initial_balance = 1000.0\n",
        "agent = SmartphoneTradingAgent(initial_inventory, initial_balance)\n",
        "\n",
        "# Simulate buying and selling based on conditions\n",
        "current_price = 60.0\n",
        "\n",
        "# Example buying condition\n",
        "if current_price < 50.0:\n",
        "    agent.buy_smartphones(current_price, 5)\n",
        "\n",
        "# Example selling condition\n",
        "if current_price > 70.0:\n",
        "    agent.sell_smartphones(current_price, 3)\n",
        "\n",
        "# Display final inventory and balance\n",
        "print(f\"Final Inventory: {agent.inventory}\")\n",
        "print(f\"Final Balance: {agent.balance}\")\n"
      ],
      "metadata": {
        "colab": {
          "base_uri": "https://localhost:8080/"
        },
        "id": "8OY9YroFc2R6",
        "outputId": "a92001d0-cff5-403a-b591-33f6f2083c4c"
      },
      "execution_count": 5,
      "outputs": [
        {
          "output_type": "stream",
          "name": "stdout",
          "text": [
            "Final Inventory: 10\n",
            "Final Balance: 1000.0\n"
          ]
        }
      ]
    },
    {
      "cell_type": "code",
      "source": [
        "class SmartphoneInventoryAgent:\n",
        "    def __init__(self, current_price, ave, instock_quantity):\n",
        "        self.current_price = current_price\n",
        "        self.ave = ave\n",
        "        self.instock_quantity = instock_quantity\n",
        "\n",
        "    def make_decision(self):\n",
        "        # Consider ordering more units if the price drops significantly\n",
        "        price_drop_threshold = 0.2  # 20% price drop threshold\n",
        "        if self.current_price < (1 - price_drop_threshold) * self.ave:\n",
        "            tobuy = 10  # Order 10 more units\n",
        "        else:\n",
        "            tobuy = 0\n",
        "\n",
        "        return tobuy\n",
        "\n",
        "\n",
        "# Example usage:\n",
        "current_price = 80.0\n",
        "ave = 100.0\n",
        "instock_quantity = 30\n",
        "\n",
        "# Create an instance of the SmartphoneInventoryAgent\n",
        "agent = SmartphoneInventoryAgent(current_price, ave, instock_quantity)\n",
        "\n",
        "# Make a decision based on the current conditions\n",
        "tobuy = agent.make_decision()\n",
        "\n",
        "print(f\"Current Price: ${current_price}\")\n",
        "print(f\"Average Price: ${ave}\")\n",
        "print(f\"In-Stock Quantity: {instock_quantity}\")\n",
        "print(f\"Units to Buy: {tobuy}\")\n"
      ],
      "metadata": {
        "colab": {
          "base_uri": "https://localhost:8080/"
        },
        "id": "7xH2p_nyd-KY",
        "outputId": "d3e1df31-9424-41a5-d298-667274bb15fd"
      },
      "execution_count": 6,
      "outputs": [
        {
          "output_type": "stream",
          "name": "stdout",
          "text": [
            "Current Price: $80.0\n",
            "Average Price: $100.0\n",
            "In-Stock Quantity: 30\n",
            "Units to Buy: 0\n"
          ]
        }
      ]
    },
    {
      "cell_type": "code",
      "source": [
        "\n",
        "\n",
        "\n",
        "class SmartphoneInventoryAgent:\n",
        "    def __init__(self, current_price, ave, instock_quantity):\n",
        "        self.current_price = current_price\n",
        "        self.ave = ave\n",
        "        self.instock_quantity = instock_quantity\n",
        "\n",
        "    def make_decision(self):\n",
        "        # Consider ordering more units if the price drops significantly\n",
        "        price_drop_threshold = 0.2  # 20% price drop threshold\n",
        "        if self.current_price <= 500.0 and self.instock_quantity == 20:\n",
        "            tobuy = 15  # Order 15 more units\n",
        "        elif self.current_price < (1 - price_drop_threshold) * self.ave:\n",
        "            tobuy = 10  # Order 10 more units\n",
        "        else:\n",
        "            tobuy = 0\n",
        "\n",
        "        return tobuy\n",
        "\n",
        "\n",
        "# Example usage:\n",
        "current_price = 500.0\n",
        "ave = 600.0\n",
        "instock_quantity = 20\n",
        "\n",
        "# Create an instance of the SmartphoneInventoryAgent\n",
        "agent = SmartphoneInventoryAgent(current_price, ave, instock_quantity)\n",
        "\n",
        "# Make a decision based on the current conditions\n",
        "tobuy = agent.make_decision()\n",
        "\n",
        "print(f\"Current Price: {current_price} BDT\")\n",
        "print(f\"Average Price: {ave} BDT\")\n",
        "print(f\"In-Stock Quantity: {instock_quantity}\")\n",
        "print(f\"Units to Buy: {tobuy}\")\n"
      ],
      "metadata": {
        "colab": {
          "base_uri": "https://localhost:8080/"
        },
        "id": "wEWw5ym9ef2l",
        "outputId": "ef4f0463-fabe-41a8-e639-28e19a4e20e9"
      },
      "execution_count": 9,
      "outputs": [
        {
          "output_type": "stream",
          "name": "stdout",
          "text": [
            "Current Price: 500.0 BDT\n",
            "Average Price: 600.0 BDT\n",
            "In-Stock Quantity: 20\n",
            "Units to Buy: 15\n"
          ]
        }
      ]
    }
  ]
}